## This notebook will be mainly used for the IBM Data Science Capstone Project course on Coursera

import panda as pd
import numpy as np

print(" Hello Capstone Project Course! ")
